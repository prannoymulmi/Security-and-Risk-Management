{
 "cells": [
  {
   "cell_type": "markdown",
   "metadata": {
    "papermill": {
     "duration": 0.010989,
     "end_time": "2021-02-19T22:09:18.619513",
     "exception": false,
     "start_time": "2021-02-19T22:09:18.608524",
     "status": "completed"
    },
    "tags": [],
    "pycharm": {
     "name": "#%% md\n"
    }
   },
   "source": [
    "# Technique for Order of Preference by Similarity to Ideal Solution (AHP-TOPSIS)\n",
    "\n",
    "##### Modified from: https://www.kaggle.com/code/hungrybluedev/topsis-implementation/notebook </br>\n",
    "\n",
    "It is a multi-criteria decision analysis method that is based on the concept that the chosen alternative should have the shortest geometric distance to the Positive Ideal Solution (PIS) and the longest geometric solution from the Negative Ideal Solution (NIS)."
   ]
  },
  {
   "cell_type": "markdown",
   "source": [
    "# AHP Weight calculation\n",
    "1.  Pair-wise comparison of each criteria and sub-criteria to establish the weight of the supply chain parameters.\n",
    "2. Global summation of all these weights (weighted arithmetic sum) for each alternative and ordering them on the basis of this weighted sum.\n",
    "3. Calculate the consistency ratio which should be less than 0.10, otherwise the weights are not balanced"
   ],
   "metadata": {
    "collapsed": false,
    "pycharm": {
     "name": "#%% md\n"
    }
   }
  },
  {
   "cell_type": "markdown",
   "source": [
    "## AHP Pair-wise Comparison Matrix\n",
    "As the first step a pairwise comparison matrix is determined qualitatively according to the priority using the Saaty 9 point scale (Evelyn, E. et.al, 2015). This table is subjectively evaluated, as AHP combines both quantitative and qualitative aspects in the decision method, which helps the analysis to find the best possible answer rather than a correct solution (Longaray, A.A. et.al, 2015).\n",
    "<br /><br />\n",
    "\n",
    "| Features              | Digital Prepardness  | Natural Disaster | Labor Strikes | Political Stability | Logistic Index |\n",
    "|-----------------------|----------------------|------------------|---------------|---------------------|----------------|\n",
    "| Digital Prepardness   | 1                    | 6                | 8             | 4                   | 3              |\n",
    "| Natural Disaster      | 1/6                  | 1                | 3             | 1/2                 | 1/4            |\n",
    "| Labor Strikes         | 1/8                  | 1/3              | 1             | 1/2                 | 1/4            |\n",
    "| Political Instability | 1/4                  | 2                | 2             | 1                   | 1/3            |\n",
    "| Logistic Index        | 1/3                  | 5                | 4             | 3                   | 1              |"
   ],
   "metadata": {
    "collapsed": false,
    "pycharm": {
     "name": "#%% md\n"
    }
   }
  },
  {
   "cell_type": "code",
   "execution_count": 38,
   "outputs": [],
   "source": [
    "from ahpy import ahpy\n",
    "\n",
    "supply_chain_comp = {\n",
    "    ('Digital Prepardness', 'Digital Prepardness'): 1, ('Digital Prepardness', 'Natural Disasters'): 6, ('Digital Prepardness', 'Labor Strikes'): 8, ('Digital Prepardness', 'Political Stability'): 4, ('Digital Prepardness', 'Logistic Index'): 3,\n",
    "    ('Natural Disasters', 'Digital Prepardness'): 1/6, ('Natural Disasters', 'Natural Disasters'): 1, ('Natural Disasters', 'Labor Strikes'): 3, ('Natural Disasters', 'Political Stability'): 1/2, ('Natural Disasters', 'Logistic Index'): 1/5,\n",
    "    ('Labor Strikes', 'Digital Prepardness'): 1/8, ('Labor Strikes', 'Natural Disasters'): 1/3, ('Labor Strikes', 'Labor Strikes'): 1, ('Labor Strikes', 'Political Stability'): 1/2, ('Labor Strikes', 'Logistic Index'): 1/4,\n",
    "    ('Political Stability', 'Digital Prepardness'): 1/4, ('Political Stability', 'Natural Disasters'): 2, ('Political Stability', 'Labor Strikes'): 2, ('Political Stability', 'Political Stability'): 1, ('Political Stability', 'Logistic Index'): 1/3,\n",
    "    ('Logistic Index', 'Digital Prepardness'): 1/3, ('Logistic Index', 'Natural Disasters'): 5, ('Logistic Index', 'Labor Strikes'): 4, ('Logistic Index', 'Political Stability'): 3, ('Logistic Index', 'Logistic Index'): 1\n",
    "    }\n"
   ],
   "metadata": {
    "collapsed": false,
    "pycharm": {
     "name": "#%%\n"
    }
   }
  },
  {
   "cell_type": "markdown",
   "source": [
    "## Calculate the weight for the criteria\n",
    "The above table represents an n x n comparison matrix which contains the intensities defined by us (Karmaker, C.L et.al, 2018). $$\n",
    " M = (w_{i}/w_{j})_{n x n} = (\\begin{array}{cc}\n",
    "w_{1}/w_{1} & w_{1}/w_{2} & .... & w_{1}/w_{n}\\\\\n",
    "w_{2}/w_{1} & w_{2}/w_{2} & .... & w_{2}/w_{n}\\\\\n",
    ". & . & ..... & . \\\\\n",
    "w_{n}/w_{1} & w_{n}/w_{2} & .... & w_{n}/w_{n}\n",
    "\\end{array})\n",
    "$$"
   ],
   "metadata": {
    "collapsed": false,
    "pycharm": {
     "name": "#%% md\n"
    }
   }
  },
  {
   "cell_type": "markdown",
   "source": [
    "## Generate the weights\n",
    "The n x n matrix is first normalized using the formula below and a priority vector is generated with which the weights are generated.\n",
    "$$\n",
    "W = \\begin{bmatrix}\n",
    "           w_{1} \\\\\n",
    "           w_{2} \\\\\n",
    "           \\vdots \\\\\n",
    "           w_{n}\n",
    "         \\end{bmatrix}\n",
    "$$"
   ],
   "metadata": {
    "collapsed": false,
    "pycharm": {
     "name": "#%% md\n"
    }
   }
  },
  {
   "cell_type": "code",
   "execution_count": 39,
   "outputs": [
    {
     "name": "stdout",
     "output_type": "stream",
     "text": [
      "{'Digital Prepardness': 0.498, 'Logistic Index': 0.26, 'Political Stability': 0.111, 'Natural Disasters': 0.08, 'Labor Strikes': 0.05}\n",
      "Consistency Ratio: 0.051\n"
     ]
    }
   ],
   "source": [
    "supply_chain = ahpy.Compare(name='Supply_Chain', comparisons=supply_chain_comp, precision=3, random_index='saaty')\n",
    "\n",
    "print(supply_chain.target_weights)\n",
    "print('Consistency Ratio: ' + str(supply_chain.consistency_ratio))"
   ],
   "metadata": {
    "collapsed": false,
    "pycharm": {
     "name": "#%%\n"
    }
   }
  },
  {
   "cell_type": "markdown",
   "source": [
    "## Calculate and check the Consistency ratio\n",
    "It is assumed that the experts using the AHP makers are objective. However, this is not true in real life which generates a certain level of uncertainty towards this evaluation. Therefore, Saaty solved this issue by creating the consistency Index and consistency ratios. To accept the matrix, the CR value should be less the 0.1 meaning there could be an inconsistency error of 10%."
   ],
   "metadata": {
    "collapsed": false,
    "pycharm": {
     "name": "#%% md\n"
    }
   }
  },
  {
   "cell_type": "code",
   "execution_count": 40,
   "metadata": {
    "execution": {
     "iopub.execute_input": "2021-02-19T22:09:18.644908Z",
     "iopub.status.busy": "2021-02-19T22:09:18.644086Z",
     "iopub.status.idle": "2021-02-19T22:09:19.425988Z",
     "shell.execute_reply": "2021-02-19T22:09:19.426526Z"
    },
    "papermill": {
     "duration": 0.797664,
     "end_time": "2021-02-19T22:09:19.426895",
     "exception": false,
     "start_time": "2021-02-19T22:09:18.629231",
     "status": "completed"
    },
    "tags": [],
    "pycharm": {
     "name": "#%%\n"
    }
   },
   "outputs": [],
   "source": [
    "# All the packages that we need to import\n",
    "import numpy as np               # for linear algebra\n",
    "import pandas as pd              # for tabular output\n",
    "from scipy.stats import rankdata # for ranking the candidates"
   ]
  },
  {
   "cell_type": "markdown",
   "metadata": {
    "papermill": {
     "duration": 0.009821,
     "end_time": "2021-02-19T22:09:19.448201",
     "exception": false,
     "start_time": "2021-02-19T22:09:19.438380",
     "status": "completed"
    },
    "tags": [],
    "pycharm": {
     "name": "#%% md\n"
    }
   },
   "source": [
    "## Pre-requisites\n",
    "\n",
    "For this problem, we are always provided with the following data:\n",
    "1. The ratings in every category for each candidate.\n",
    "2. The weights for every category or attribute to be considered.\n",
    "\n",
    "Note that an attribute can be beneficial attribute (in which case, we will want to maximize it's contribution) or a cost attribute (which we will need to minimize). We call the set of beneficial attributes $J_1$ and that of cost attributes $J_2 = J_1^C$."
   ]
  },
  {
   "cell_type": "code",
   "execution_count": 49,
   "outputs": [
    {
     "data": {
      "text/plain": "             Digital Prepardness  Natural Disasters  Labor Strikes   \nGermany                    88.07              3.260           17.3  \\\nPoland                     84.09              3.650           16.0   \nFrance                     86.41              3.530          127.6   \nBelgium                    90.69              3.520           97.9   \nUK                         85.59              4.058           17.9   \nPortugal                   85.50              3.900           14.1   \nBulgaria                   64.37              3.880            2.1   \nNetherlands                84.66              7.440           19.2   \nSpain                      88.61              2.940           49.1   \nIreland                    78.56              4.200           15.6   \nHungary                    76.74              4.680            6.2   \n\n             Political Stability  Logistic Index  \nGermany                     0.76             4.1  \nPoland                      0.51             3.6  \nFrance                      0.37             3.9  \nBelgium                     0.61             4.0  \nUK                          0.54             3.8  \nPortugal                    0.00             3.4  \nBulgaria                    0.46             3.2  \nNetherlands                 0.92             4.1  \nSpain                       0.58             3.9  \nIreland                     0.86             3.6  \nHungary                     0.86             3.2  ",
      "text/html": "<div>\n<style scoped>\n    .dataframe tbody tr th:only-of-type {\n        vertical-align: middle;\n    }\n\n    .dataframe tbody tr th {\n        vertical-align: top;\n    }\n\n    .dataframe thead th {\n        text-align: right;\n    }\n</style>\n<table border=\"1\" class=\"dataframe\">\n  <thead>\n    <tr style=\"text-align: right;\">\n      <th></th>\n      <th>Digital Prepardness</th>\n      <th>Natural Disasters</th>\n      <th>Labor Strikes</th>\n      <th>Political Stability</th>\n      <th>Logistic Index</th>\n    </tr>\n  </thead>\n  <tbody>\n    <tr>\n      <th>Germany</th>\n      <td>88.07</td>\n      <td>3.260</td>\n      <td>17.3</td>\n      <td>0.76</td>\n      <td>4.1</td>\n    </tr>\n    <tr>\n      <th>Poland</th>\n      <td>84.09</td>\n      <td>3.650</td>\n      <td>16.0</td>\n      <td>0.51</td>\n      <td>3.6</td>\n    </tr>\n    <tr>\n      <th>France</th>\n      <td>86.41</td>\n      <td>3.530</td>\n      <td>127.6</td>\n      <td>0.37</td>\n      <td>3.9</td>\n    </tr>\n    <tr>\n      <th>Belgium</th>\n      <td>90.69</td>\n      <td>3.520</td>\n      <td>97.9</td>\n      <td>0.61</td>\n      <td>4.0</td>\n    </tr>\n    <tr>\n      <th>UK</th>\n      <td>85.59</td>\n      <td>4.058</td>\n      <td>17.9</td>\n      <td>0.54</td>\n      <td>3.8</td>\n    </tr>\n    <tr>\n      <th>Portugal</th>\n      <td>85.50</td>\n      <td>3.900</td>\n      <td>14.1</td>\n      <td>0.00</td>\n      <td>3.4</td>\n    </tr>\n    <tr>\n      <th>Bulgaria</th>\n      <td>64.37</td>\n      <td>3.880</td>\n      <td>2.1</td>\n      <td>0.46</td>\n      <td>3.2</td>\n    </tr>\n    <tr>\n      <th>Netherlands</th>\n      <td>84.66</td>\n      <td>7.440</td>\n      <td>19.2</td>\n      <td>0.92</td>\n      <td>4.1</td>\n    </tr>\n    <tr>\n      <th>Spain</th>\n      <td>88.61</td>\n      <td>2.940</td>\n      <td>49.1</td>\n      <td>0.58</td>\n      <td>3.9</td>\n    </tr>\n    <tr>\n      <th>Ireland</th>\n      <td>78.56</td>\n      <td>4.200</td>\n      <td>15.6</td>\n      <td>0.86</td>\n      <td>3.6</td>\n    </tr>\n    <tr>\n      <th>Hungary</th>\n      <td>76.74</td>\n      <td>4.680</td>\n      <td>6.2</td>\n      <td>0.86</td>\n      <td>3.2</td>\n    </tr>\n  </tbody>\n</table>\n</div>"
     },
     "execution_count": 49,
     "metadata": {},
     "output_type": "execute_result"
    }
   ],
   "source": [
    "# The given data encoded into vectors and matrices\n",
    "\n",
    "attributes = np.array([\"Digital Prepardness\", \"Natural Disasters\", \"Labor Strikes\", \"Political Stability\", \"Logistic Index\"])\n",
    "candidates = np.array([\"Germany\", \"Poland\", \"France\", \"Belgium\",\"UK\", \"Portugal\", \"Bulgaria\", \"Netherlands\", \"Spain\", \"Ireland\", \"Hungary\"])\n",
    "raw_data = np.array([\n",
    "    [88.07, 3.26, 17.30, 0.76, 4.10], # Germany\n",
    "    [84.09, 3.65, 16.0, 0.51, 3.6], # Poland\n",
    "    [86.41, 3.53, 127.6, 0.37, 3.9], # France\n",
    "    [90.69, 3.52, 97.9, 0.61, 4.0], # Belgium\n",
    "    [85.59, 4.058, 17.9, 0.54, 3.8], # UK\n",
    "    [85.5, 3.9, 14.1, 0., 3.4], # Portugal\n",
    "    [64.37, 3.88, 2.1, 0.46, 3.2], # Bulgaria\n",
    "    [84.66, 7.44, 19.2, 0.92, 4.1], # Netherlands\n",
    "    [88.61, 2.94, 49.1, 0.58, 3.9], # Spain\n",
    "    [78.56, 4.2, 15.6, 0.86, 3.6], # Ireland\n",
    "    [76.74, 4.68, 6.2, 0.86, 3.2], # Hungary\n",
    "])\n",
    "\n",
    "weights = np.array([0.498, 0.08, 0.05, 0.111, 0.26])\n",
    "\n",
    "# The indices of the attributes (zero-based) that are considered beneficial.\n",
    "# Those indices not mentioned are assumed to be cost attributes.\n",
    "# Cost benefit functions = when cost (lower is better) and 1 when benefit function (more is better)\n",
    "# This attribute sets if the colum is better with lower or higher data.\n",
    "benefit_attributes = set([0, 3, 4])\n",
    "\n",
    "# Display the raw data we have\n",
    "pd.DataFrame(data=raw_data, index=candidates, columns=attributes)"
   ],
   "metadata": {
    "collapsed": false,
    "pycharm": {
     "name": "#%%\n"
    }
   }
  },
  {
   "cell_type": "markdown",
   "metadata": {
    "papermill": {
     "duration": 0.010017,
     "end_time": "2021-02-19T22:09:19.534211",
     "exception": false,
     "start_time": "2021-02-19T22:09:19.524194",
     "status": "completed"
    },
    "tags": [],
    "pycharm": {
     "name": "#%% md\n"
    }
   },
   "source": [
    "## Step 1 - Normalizing the ratings\n",
    "\n",
    "$$r_{ij}=\\frac{x_{ij}}{\\sqrt{\\sum_{i = 1}^{m} x_{ij}^2}}$$\n",
    "\n",
    "where $i = 1, 2, \\ldots, m$ and $j = 1, 2, \\ldots, n$."
   ]
  },
  {
   "cell_type": "code",
   "execution_count": 42,
   "metadata": {
    "execution": {
     "iopub.execute_input": "2021-02-19T22:09:19.558504Z",
     "iopub.status.busy": "2021-02-19T22:09:19.557538Z",
     "iopub.status.idle": "2021-02-19T22:09:19.573872Z",
     "shell.execute_reply": "2021-02-19T22:09:19.574418Z"
    },
    "papermill": {
     "duration": 0.03022,
     "end_time": "2021-02-19T22:09:19.574605",
     "exception": false,
     "start_time": "2021-02-19T22:09:19.544385",
     "status": "completed"
    },
    "tags": [],
    "pycharm": {
     "name": "#%%\n"
    }
   },
   "outputs": [
    {
     "data": {
      "text/plain": "              $X_{0}$   $X_{1}$   $X_{2}$   $X_{3}$   $X_{4}$\nGermany      0.318672  0.231053  0.099871  0.357795  0.332074\nPoland       0.304271  0.258694  0.092366  0.240099  0.291577\nFrance       0.312666  0.250189  0.736621  0.174190  0.315875\nBelgium      0.328152  0.249481  0.565166  0.287177  0.323974\nUK           0.309698  0.287611  0.103335  0.254223  0.307776\nPortugal     0.309373  0.276413  0.081398  0.000000  0.275378\nBulgaria     0.232916  0.274996  0.012123  0.216560  0.259179\nNetherlands  0.306333  0.527311  0.110840  0.433120  0.332074\nSpain        0.320626  0.208373  0.283449  0.273054  0.315875\nIreland      0.284261  0.297676  0.090057  0.404873  0.291577\nHungary      0.277676  0.331696  0.035792  0.404873  0.259179",
      "text/html": "<div>\n<style scoped>\n    .dataframe tbody tr th:only-of-type {\n        vertical-align: middle;\n    }\n\n    .dataframe tbody tr th {\n        vertical-align: top;\n    }\n\n    .dataframe thead th {\n        text-align: right;\n    }\n</style>\n<table border=\"1\" class=\"dataframe\">\n  <thead>\n    <tr style=\"text-align: right;\">\n      <th></th>\n      <th>$X_{0}$</th>\n      <th>$X_{1}$</th>\n      <th>$X_{2}$</th>\n      <th>$X_{3}$</th>\n      <th>$X_{4}$</th>\n    </tr>\n  </thead>\n  <tbody>\n    <tr>\n      <th>Germany</th>\n      <td>0.318672</td>\n      <td>0.231053</td>\n      <td>0.099871</td>\n      <td>0.357795</td>\n      <td>0.332074</td>\n    </tr>\n    <tr>\n      <th>Poland</th>\n      <td>0.304271</td>\n      <td>0.258694</td>\n      <td>0.092366</td>\n      <td>0.240099</td>\n      <td>0.291577</td>\n    </tr>\n    <tr>\n      <th>France</th>\n      <td>0.312666</td>\n      <td>0.250189</td>\n      <td>0.736621</td>\n      <td>0.174190</td>\n      <td>0.315875</td>\n    </tr>\n    <tr>\n      <th>Belgium</th>\n      <td>0.328152</td>\n      <td>0.249481</td>\n      <td>0.565166</td>\n      <td>0.287177</td>\n      <td>0.323974</td>\n    </tr>\n    <tr>\n      <th>UK</th>\n      <td>0.309698</td>\n      <td>0.287611</td>\n      <td>0.103335</td>\n      <td>0.254223</td>\n      <td>0.307776</td>\n    </tr>\n    <tr>\n      <th>Portugal</th>\n      <td>0.309373</td>\n      <td>0.276413</td>\n      <td>0.081398</td>\n      <td>0.000000</td>\n      <td>0.275378</td>\n    </tr>\n    <tr>\n      <th>Bulgaria</th>\n      <td>0.232916</td>\n      <td>0.274996</td>\n      <td>0.012123</td>\n      <td>0.216560</td>\n      <td>0.259179</td>\n    </tr>\n    <tr>\n      <th>Netherlands</th>\n      <td>0.306333</td>\n      <td>0.527311</td>\n      <td>0.110840</td>\n      <td>0.433120</td>\n      <td>0.332074</td>\n    </tr>\n    <tr>\n      <th>Spain</th>\n      <td>0.320626</td>\n      <td>0.208373</td>\n      <td>0.283449</td>\n      <td>0.273054</td>\n      <td>0.315875</td>\n    </tr>\n    <tr>\n      <th>Ireland</th>\n      <td>0.284261</td>\n      <td>0.297676</td>\n      <td>0.090057</td>\n      <td>0.404873</td>\n      <td>0.291577</td>\n    </tr>\n    <tr>\n      <th>Hungary</th>\n      <td>0.277676</td>\n      <td>0.331696</td>\n      <td>0.035792</td>\n      <td>0.404873</td>\n      <td>0.259179</td>\n    </tr>\n  </tbody>\n</table>\n</div>"
     },
     "execution_count": 42,
     "metadata": {},
     "output_type": "execute_result"
    }
   ],
   "source": [
    "m = len(raw_data)\n",
    "n = len(attributes)\n",
    "divisors = np.empty(n)\n",
    "for j in range(n):\n",
    "    column = raw_data[:,j]\n",
    "    divisors[j] = np.sqrt(column @ column)\n",
    "\n",
    "raw_data /= divisors\n",
    "\n",
    "columns = [\"$X_{%d}$\" % j for j in range(n)]\n",
    "pd.DataFrame(data=raw_data, index=candidates, columns=columns)"
   ]
  },
  {
   "cell_type": "markdown",
   "metadata": {
    "papermill": {
     "duration": 0.010523,
     "end_time": "2021-02-19T22:09:19.596095",
     "exception": false,
     "start_time": "2021-02-19T22:09:19.585572",
     "status": "completed"
    },
    "tags": [],
    "pycharm": {
     "name": "#%% md\n"
    }
   },
   "source": [
    "## Step 2 - Calculating the Weighted Normalized Ratings\n",
    "\n",
    "$$v_{ij} = w_j r_{ij}$$\n",
    "\n",
    "where $i = 1, 2, \\ldots, m$ and $j = 1, 2, \\ldots, n$."
   ]
  },
  {
   "cell_type": "code",
   "execution_count": 43,
   "metadata": {
    "execution": {
     "iopub.execute_input": "2021-02-19T22:09:19.631855Z",
     "iopub.status.busy": "2021-02-19T22:09:19.631167Z",
     "iopub.status.idle": "2021-02-19T22:09:19.634040Z",
     "shell.execute_reply": "2021-02-19T22:09:19.634496Z"
    },
    "papermill": {
     "duration": 0.027928,
     "end_time": "2021-02-19T22:09:19.634687",
     "exception": false,
     "start_time": "2021-02-19T22:09:19.606759",
     "status": "completed"
    },
    "tags": [],
    "pycharm": {
     "name": "#%%\n"
    }
   },
   "outputs": [
    {
     "data": {
      "text/plain": "              $X_{0}$   $X_{1}$   $X_{2}$   $X_{3}$   $X_{4}$\nGermany      0.158699  0.018484  0.004994  0.039715  0.086339\nPoland       0.151527  0.020696  0.004618  0.026651  0.075810\nFrance       0.155707  0.020015  0.036831  0.019335  0.082127\nBelgium      0.163420  0.019958  0.028258  0.031877  0.084233\nUK           0.154230  0.023009  0.005167  0.028219  0.080022\nPortugal     0.154068  0.022113  0.004070  0.000000  0.071598\nBulgaria     0.115992  0.022000  0.000606  0.024038  0.067387\nNetherlands  0.152554  0.042185  0.005542  0.048076  0.086339\nSpain        0.159672  0.016670  0.014172  0.030309  0.082127\nIreland      0.141562  0.023814  0.004503  0.044941  0.075810\nHungary      0.138282  0.026536  0.001790  0.044941  0.067387",
      "text/html": "<div>\n<style scoped>\n    .dataframe tbody tr th:only-of-type {\n        vertical-align: middle;\n    }\n\n    .dataframe tbody tr th {\n        vertical-align: top;\n    }\n\n    .dataframe thead th {\n        text-align: right;\n    }\n</style>\n<table border=\"1\" class=\"dataframe\">\n  <thead>\n    <tr style=\"text-align: right;\">\n      <th></th>\n      <th>$X_{0}$</th>\n      <th>$X_{1}$</th>\n      <th>$X_{2}$</th>\n      <th>$X_{3}$</th>\n      <th>$X_{4}$</th>\n    </tr>\n  </thead>\n  <tbody>\n    <tr>\n      <th>Germany</th>\n      <td>0.158699</td>\n      <td>0.018484</td>\n      <td>0.004994</td>\n      <td>0.039715</td>\n      <td>0.086339</td>\n    </tr>\n    <tr>\n      <th>Poland</th>\n      <td>0.151527</td>\n      <td>0.020696</td>\n      <td>0.004618</td>\n      <td>0.026651</td>\n      <td>0.075810</td>\n    </tr>\n    <tr>\n      <th>France</th>\n      <td>0.155707</td>\n      <td>0.020015</td>\n      <td>0.036831</td>\n      <td>0.019335</td>\n      <td>0.082127</td>\n    </tr>\n    <tr>\n      <th>Belgium</th>\n      <td>0.163420</td>\n      <td>0.019958</td>\n      <td>0.028258</td>\n      <td>0.031877</td>\n      <td>0.084233</td>\n    </tr>\n    <tr>\n      <th>UK</th>\n      <td>0.154230</td>\n      <td>0.023009</td>\n      <td>0.005167</td>\n      <td>0.028219</td>\n      <td>0.080022</td>\n    </tr>\n    <tr>\n      <th>Portugal</th>\n      <td>0.154068</td>\n      <td>0.022113</td>\n      <td>0.004070</td>\n      <td>0.000000</td>\n      <td>0.071598</td>\n    </tr>\n    <tr>\n      <th>Bulgaria</th>\n      <td>0.115992</td>\n      <td>0.022000</td>\n      <td>0.000606</td>\n      <td>0.024038</td>\n      <td>0.067387</td>\n    </tr>\n    <tr>\n      <th>Netherlands</th>\n      <td>0.152554</td>\n      <td>0.042185</td>\n      <td>0.005542</td>\n      <td>0.048076</td>\n      <td>0.086339</td>\n    </tr>\n    <tr>\n      <th>Spain</th>\n      <td>0.159672</td>\n      <td>0.016670</td>\n      <td>0.014172</td>\n      <td>0.030309</td>\n      <td>0.082127</td>\n    </tr>\n    <tr>\n      <th>Ireland</th>\n      <td>0.141562</td>\n      <td>0.023814</td>\n      <td>0.004503</td>\n      <td>0.044941</td>\n      <td>0.075810</td>\n    </tr>\n    <tr>\n      <th>Hungary</th>\n      <td>0.138282</td>\n      <td>0.026536</td>\n      <td>0.001790</td>\n      <td>0.044941</td>\n      <td>0.067387</td>\n    </tr>\n  </tbody>\n</table>\n</div>"
     },
     "execution_count": 43,
     "metadata": {},
     "output_type": "execute_result"
    }
   ],
   "source": [
    "raw_data *= weights\n",
    "pd.DataFrame(data=raw_data, index=candidates, columns=columns)"
   ]
  },
  {
   "cell_type": "markdown",
   "metadata": {
    "papermill": {
     "duration": 0.011047,
     "end_time": "2021-02-19T22:09:19.657165",
     "exception": false,
     "start_time": "2021-02-19T22:09:19.646118",
     "status": "completed"
    },
    "tags": [],
    "pycharm": {
     "name": "#%% md\n"
    }
   },
   "source": [
    "## Step 3 - Identifying PIS ($A^*$) and NIS ($A^-$)\n",
    "\n",
    "$$\n",
    "\\begin{align}\n",
    "A^* &= \\left\\{v_1^*, v_2^*, \\ldots, v_n^*\\right\\} \\\\\n",
    "A^- &= \\left\\{v_1^-, v_2^-, \\ldots, v_n^-\\right\\} \\\\\n",
    "\\end{align}\n",
    "$$\n",
    "\n",
    "And we define\n",
    "\n",
    "$$\n",
    "\\begin{align}\n",
    "v_j^* &=\n",
    "\\begin{cases}\n",
    "\\max{(v_{ij})}, \\text{ if} j \\in J_1 \\\\\n",
    "\\min{(v_{ij})}, \\text{ if} j \\in J_2\n",
    "\\end{cases}\n",
    "\\\\\n",
    "v_j^- &=\n",
    "\\begin{cases}\n",
    "\\min{(v_{ij})}, \\text{ if} j \\in J_1 \\\\\n",
    "\\max{(v_{ij})}, \\text{ if} j \\in J_2\n",
    "\\end{cases}\n",
    "\\\\\n",
    "\\end{align}\n",
    "$$\n",
    "\n",
    "where $i = 1, 2, \\ldots, m$ and $j = 1, 2, \\ldots, n$."
   ]
  },
  {
   "cell_type": "code",
   "execution_count": 44,
   "metadata": {
    "execution": {
     "iopub.execute_input": "2021-02-19T22:09:19.683607Z",
     "iopub.status.busy": "2021-02-19T22:09:19.682916Z",
     "iopub.status.idle": "2021-02-19T22:09:19.698532Z",
     "shell.execute_reply": "2021-02-19T22:09:19.698992Z"
    },
    "papermill": {
     "duration": 0.030628,
     "end_time": "2021-02-19T22:09:19.699195",
     "exception": false,
     "start_time": "2021-02-19T22:09:19.668567",
     "status": "completed"
    },
    "tags": [],
    "pycharm": {
     "name": "#%%\n"
    }
   },
   "outputs": [
    {
     "data": {
      "text/plain": "        $X_{0}$   $X_{1}$   $X_{2}$   $X_{3}$   $X_{4}$\n$A^*$  0.163420  0.016670  0.000606  0.048076  0.086339\n$A^-$  0.115992  0.042185  0.036831  0.000000  0.067387",
      "text/html": "<div>\n<style scoped>\n    .dataframe tbody tr th:only-of-type {\n        vertical-align: middle;\n    }\n\n    .dataframe tbody tr th {\n        vertical-align: top;\n    }\n\n    .dataframe thead th {\n        text-align: right;\n    }\n</style>\n<table border=\"1\" class=\"dataframe\">\n  <thead>\n    <tr style=\"text-align: right;\">\n      <th></th>\n      <th>$X_{0}$</th>\n      <th>$X_{1}$</th>\n      <th>$X_{2}$</th>\n      <th>$X_{3}$</th>\n      <th>$X_{4}$</th>\n    </tr>\n  </thead>\n  <tbody>\n    <tr>\n      <th>$A^*$</th>\n      <td>0.163420</td>\n      <td>0.016670</td>\n      <td>0.000606</td>\n      <td>0.048076</td>\n      <td>0.086339</td>\n    </tr>\n    <tr>\n      <th>$A^-$</th>\n      <td>0.115992</td>\n      <td>0.042185</td>\n      <td>0.036831</td>\n      <td>0.000000</td>\n      <td>0.067387</td>\n    </tr>\n  </tbody>\n</table>\n</div>"
     },
     "execution_count": 44,
     "metadata": {},
     "output_type": "execute_result"
    }
   ],
   "source": [
    "a_pos = np.zeros(n)\n",
    "a_neg = np.zeros(n)\n",
    "for j in range(n):\n",
    "    column = raw_data[:,j]\n",
    "    max_val = np.max(column)\n",
    "    min_val = np.min(column)\n",
    "    \n",
    "    # See if we want to maximize benefit or minimize cost (for PIS)\n",
    "    if j in benefit_attributes:\n",
    "        a_pos[j] = max_val\n",
    "        a_neg[j] = min_val\n",
    "    else:\n",
    "        a_pos[j] = min_val\n",
    "        a_neg[j] = max_val\n",
    "\n",
    "pd.DataFrame(data=[a_pos, a_neg], index=[\"$A^*$\", \"$A^-$\"], columns=columns)"
   ]
  },
  {
   "cell_type": "markdown",
   "metadata": {
    "papermill": {
     "duration": 0.011753,
     "end_time": "2021-02-19T22:09:19.723072",
     "exception": false,
     "start_time": "2021-02-19T22:09:19.711319",
     "status": "completed"
    },
    "tags": [],
    "pycharm": {
     "name": "#%% md\n"
    }
   },
   "source": [
    "## Step 4 and 5 - Calculating Separation Measures and Similarities to PIS\n",
    "\n",
    "The separation or distance between the alternatives can be measured by the $n$-dimensional Euclidean distance. The separation from the PIS $A^*$ and NIS $A^-$ are $S^*$ and $S^-$ respectively.\n",
    "\n",
    "$$\n",
    "\\begin{align}\n",
    "S_i^* &= \\sqrt{\\sum_{j = 1}^n \\left(v_{ij} - v^*_j\\right)^2} \\\\\n",
    "S_i^- &= \\sqrt{\\sum_{j = 1}^n \\left(v_{ij} - v^-_j\\right)^2} \\\\\n",
    "\\end{align}\n",
    "$$\n",
    "\n",
    "where $i = 1, 2, \\ldots, m$ and $j = 1, 2, \\ldots, n$.\n",
    "\n",
    "We also calculate\n",
    "\n",
    "$$\n",
    "C^*_i = \\frac{S_i^-}{S_i^* + S_i^-},\\text{ where }i = 1, 2, \\ldots, m\n",
    "$$"
   ]
  },
  {
   "cell_type": "code",
   "execution_count": 45,
   "metadata": {
    "execution": {
     "iopub.execute_input": "2021-02-19T22:09:19.750405Z",
     "iopub.status.busy": "2021-02-19T22:09:19.749766Z",
     "iopub.status.idle": "2021-02-19T22:09:19.764407Z",
     "shell.execute_reply": "2021-02-19T22:09:19.764896Z"
    },
    "papermill": {
     "duration": 0.029903,
     "end_time": "2021-02-19T22:09:19.765068",
     "exception": false,
     "start_time": "2021-02-19T22:09:19.735165",
     "status": "completed"
    },
    "tags": [],
    "pycharm": {
     "name": "#%%\n"
    }
   },
   "outputs": [
    {
     "data": {
      "text/plain": "                $S^*$     $S^-$     $C^*$\nGermany      0.010712  0.073046  0.872112\nPoland       0.027270  0.059526  0.685816\nFrance       0.047188  0.051575  0.522207\nBelgium      0.032285  0.064162  0.665258\nUK           0.024076  0.061550  0.718820\nPortugal     0.051553  0.054255  0.512770\nBulgaria     0.056699  0.047932  0.458106\nNetherlands  0.028168  0.070614  0.714845\nSpain        0.023054  0.064871  0.737796\nIreland      0.025781  0.064242  0.713615\nHungary      0.033161  0.063161  0.655729",
      "text/html": "<div>\n<style scoped>\n    .dataframe tbody tr th:only-of-type {\n        vertical-align: middle;\n    }\n\n    .dataframe tbody tr th {\n        vertical-align: top;\n    }\n\n    .dataframe thead th {\n        text-align: right;\n    }\n</style>\n<table border=\"1\" class=\"dataframe\">\n  <thead>\n    <tr style=\"text-align: right;\">\n      <th></th>\n      <th>$S^*$</th>\n      <th>$S^-$</th>\n      <th>$C^*$</th>\n    </tr>\n  </thead>\n  <tbody>\n    <tr>\n      <th>Germany</th>\n      <td>0.010712</td>\n      <td>0.073046</td>\n      <td>0.872112</td>\n    </tr>\n    <tr>\n      <th>Poland</th>\n      <td>0.027270</td>\n      <td>0.059526</td>\n      <td>0.685816</td>\n    </tr>\n    <tr>\n      <th>France</th>\n      <td>0.047188</td>\n      <td>0.051575</td>\n      <td>0.522207</td>\n    </tr>\n    <tr>\n      <th>Belgium</th>\n      <td>0.032285</td>\n      <td>0.064162</td>\n      <td>0.665258</td>\n    </tr>\n    <tr>\n      <th>UK</th>\n      <td>0.024076</td>\n      <td>0.061550</td>\n      <td>0.718820</td>\n    </tr>\n    <tr>\n      <th>Portugal</th>\n      <td>0.051553</td>\n      <td>0.054255</td>\n      <td>0.512770</td>\n    </tr>\n    <tr>\n      <th>Bulgaria</th>\n      <td>0.056699</td>\n      <td>0.047932</td>\n      <td>0.458106</td>\n    </tr>\n    <tr>\n      <th>Netherlands</th>\n      <td>0.028168</td>\n      <td>0.070614</td>\n      <td>0.714845</td>\n    </tr>\n    <tr>\n      <th>Spain</th>\n      <td>0.023054</td>\n      <td>0.064871</td>\n      <td>0.737796</td>\n    </tr>\n    <tr>\n      <th>Ireland</th>\n      <td>0.025781</td>\n      <td>0.064242</td>\n      <td>0.713615</td>\n    </tr>\n    <tr>\n      <th>Hungary</th>\n      <td>0.033161</td>\n      <td>0.063161</td>\n      <td>0.655729</td>\n    </tr>\n  </tbody>\n</table>\n</div>"
     },
     "execution_count": 45,
     "metadata": {},
     "output_type": "execute_result"
    }
   ],
   "source": [
    "sp = np.zeros(m)\n",
    "sn = np.zeros(m)\n",
    "cs = np.zeros(m)\n",
    "\n",
    "for i in range(m):\n",
    "    diff_pos = raw_data[i] - a_pos\n",
    "    diff_neg = raw_data[i] - a_neg\n",
    "    sp[i] = np.sqrt(diff_pos @ diff_pos)\n",
    "    sn[i] = np.sqrt(diff_neg @ diff_neg)\n",
    "    cs[i] = sn[i] / (sp[i] + sn[i])\n",
    "\n",
    "pd.DataFrame(data=zip(sp, sn, cs), index=candidates, columns=[\"$S^*$\", \"$S^-$\", \"$C^*$\"])"
   ]
  },
  {
   "cell_type": "markdown",
   "metadata": {
    "papermill": {
     "duration": 0.012163,
     "end_time": "2021-02-19T22:09:19.790932",
     "exception": false,
     "start_time": "2021-02-19T22:09:19.778769",
     "status": "completed"
    },
    "tags": [],
    "pycharm": {
     "name": "#%% md\n"
    }
   },
   "source": [
    "## Step 6 - Ranking the candidates/alternatives\n",
    "\n",
    "We choose the candidate with the maximum $C^*$ or rank all the alternatives in descending order according to their $C^*$ values. This process can also be done for the $S^*$ and $S^-$ values."
   ]
  },
  {
   "cell_type": "code",
   "execution_count": 46,
   "metadata": {
    "execution": {
     "iopub.execute_input": "2021-02-19T22:09:19.820620Z",
     "iopub.status.busy": "2021-02-19T22:09:19.819968Z",
     "iopub.status.idle": "2021-02-19T22:09:19.825821Z",
     "shell.execute_reply": "2021-02-19T22:09:19.825149Z"
    },
    "papermill": {
     "duration": 0.022261,
     "end_time": "2021-02-19T22:09:19.825967",
     "exception": false,
     "start_time": "2021-02-19T22:09:19.803706",
     "status": "completed"
    },
    "tags": [],
    "pycharm": {
     "name": "#%%\n"
    }
   },
   "outputs": [],
   "source": [
    "def rank_according_to(data):\n",
    "    ranks = rankdata(data).astype(int)\n",
    "    ranks -= 1\n",
    "    return candidates[ranks][::-1]"
   ]
  },
  {
   "cell_type": "code",
   "execution_count": 47,
   "metadata": {
    "execution": {
     "iopub.execute_input": "2021-02-19T22:09:19.860862Z",
     "iopub.status.busy": "2021-02-19T22:09:19.860168Z",
     "iopub.status.idle": "2021-02-19T22:09:19.872164Z",
     "shell.execute_reply": "2021-02-19T22:09:19.872620Z"
    },
    "papermill": {
     "duration": 0.032593,
     "end_time": "2021-02-19T22:09:19.872798",
     "exception": false,
     "start_time": "2021-02-19T22:09:19.840205",
     "status": "completed"
    },
    "tags": [],
    "pycharm": {
     "name": "#%%\n"
    }
   },
   "outputs": [
    {
     "data": {
      "text/plain": "          $C^*$        $S^*$        $S^-$\n1       Belgium  Netherlands     Portugal\n2      Bulgaria      Belgium  Netherlands\n3       Ireland       Poland        Spain\n4   Netherlands     Portugal      Ireland\n5       Germany      Hungary      Germany\n6        Poland      Ireland       France\n7         Spain       France           UK\n8            UK     Bulgaria     Bulgaria\n9        France        Spain       Poland\n10     Portugal           UK      Belgium\n11      Hungary      Germany      Hungary",
      "text/html": "<div>\n<style scoped>\n    .dataframe tbody tr th:only-of-type {\n        vertical-align: middle;\n    }\n\n    .dataframe tbody tr th {\n        vertical-align: top;\n    }\n\n    .dataframe thead th {\n        text-align: right;\n    }\n</style>\n<table border=\"1\" class=\"dataframe\">\n  <thead>\n    <tr style=\"text-align: right;\">\n      <th></th>\n      <th>$C^*$</th>\n      <th>$S^*$</th>\n      <th>$S^-$</th>\n    </tr>\n  </thead>\n  <tbody>\n    <tr>\n      <th>1</th>\n      <td>Belgium</td>\n      <td>Netherlands</td>\n      <td>Portugal</td>\n    </tr>\n    <tr>\n      <th>2</th>\n      <td>Bulgaria</td>\n      <td>Belgium</td>\n      <td>Netherlands</td>\n    </tr>\n    <tr>\n      <th>3</th>\n      <td>Ireland</td>\n      <td>Poland</td>\n      <td>Spain</td>\n    </tr>\n    <tr>\n      <th>4</th>\n      <td>Netherlands</td>\n      <td>Portugal</td>\n      <td>Ireland</td>\n    </tr>\n    <tr>\n      <th>5</th>\n      <td>Germany</td>\n      <td>Hungary</td>\n      <td>Germany</td>\n    </tr>\n    <tr>\n      <th>6</th>\n      <td>Poland</td>\n      <td>Ireland</td>\n      <td>France</td>\n    </tr>\n    <tr>\n      <th>7</th>\n      <td>Spain</td>\n      <td>France</td>\n      <td>UK</td>\n    </tr>\n    <tr>\n      <th>8</th>\n      <td>UK</td>\n      <td>Bulgaria</td>\n      <td>Bulgaria</td>\n    </tr>\n    <tr>\n      <th>9</th>\n      <td>France</td>\n      <td>Spain</td>\n      <td>Poland</td>\n    </tr>\n    <tr>\n      <th>10</th>\n      <td>Portugal</td>\n      <td>UK</td>\n      <td>Belgium</td>\n    </tr>\n    <tr>\n      <th>11</th>\n      <td>Hungary</td>\n      <td>Germany</td>\n      <td>Hungary</td>\n    </tr>\n  </tbody>\n</table>\n</div>"
     },
     "execution_count": 47,
     "metadata": {},
     "output_type": "execute_result"
    }
   ],
   "source": [
    "cs_order = rank_according_to(cs)\n",
    "sp_order = rank_according_to(sp)\n",
    "sn_order = rank_according_to(sn)\n",
    "\n",
    "pd.DataFrame(data=zip(cs_order, sp_order, sn_order), index=range(1, m + 1), columns=[\"$C^*$\", \"$S^*$\", \"$S^-$\"])"
   ]
  },
  {
   "cell_type": "code",
   "execution_count": 48,
   "metadata": {
    "execution": {
     "iopub.execute_input": "2021-02-19T22:09:19.905499Z",
     "iopub.status.busy": "2021-02-19T22:09:19.904809Z",
     "iopub.status.idle": "2021-02-19T22:09:19.909439Z",
     "shell.execute_reply": "2021-02-19T22:09:19.908894Z"
    },
    "papermill": {
     "duration": 0.023422,
     "end_time": "2021-02-19T22:09:19.909587",
     "exception": false,
     "start_time": "2021-02-19T22:09:19.886165",
     "status": "completed"
    },
    "tags": [],
    "pycharm": {
     "name": "#%%\n"
    }
   },
   "outputs": [
    {
     "name": "stdout",
     "output_type": "stream",
     "text": [
      "The best candidate/alternative according to C* is Belgium\n",
      "The preferences in descending order are Belgium, Bulgaria, Ireland, Netherlands, Germany, Poland, Spain, UK, France, Portugal, Hungary.\n"
     ]
    }
   ],
   "source": [
    "print(\"The best candidate/alternative according to C* is \" + cs_order[0])\n",
    "print(\"The preferences in descending order are \" + \", \".join(cs_order) + \".\")"
   ]
  },
  {
   "cell_type": "markdown",
   "source": [
    "## References\n",
    "Evelyn, E. and EdmondYeboah, N., (2015). Ranking Agricultural Supply Chain Risk in Ghana: An AHP Approach. International Journal of Economics,Commerece and Management, III, 2, pp.1-12.\n",
    "\n",
    "Hungrybluedev (2021) Topsis implementation, Kaggle. Available from: https://www.kaggle.com/code/hungrybluedev/topsis-implementation/notebook (Accessed: 12 May 2023).\n",
    "\n",
    "Karmaker, C.L., Ahmed, S.M.T., Rahman, M.S., Tahiduzzaman, M., Biswas, T.K., Rahman, M. and Biswas, S.K., 2018. A framework of faculty performance evaluation: A case study in Bangladesh. International Journal of Research in Advanced Engineering and Technology, 4(3), pp.18-24.\n",
    "\n",
    "Longaray, A.A., Gois, J.D.D.R. and da Silva Munhoz, P.R., ()2015. Proposal for using AHP method to evaluate the quality of services provided by outsourced companies. Procedia Computer Science, 55, pp.715-724."
   ],
   "metadata": {
    "collapsed": false,
    "pycharm": {
     "name": "#%% md\n"
    }
   }
  }
 ],
 "metadata": {
  "kernelspec": {
   "display_name": "Python 3",
   "language": "python",
   "name": "python3"
  },
  "language_info": {
   "codemirror_mode": {
    "name": "ipython",
    "version": 3
   },
   "file_extension": ".py",
   "mimetype": "text/x-python",
   "name": "python",
   "nbconvert_exporter": "python",
   "pygments_lexer": "ipython3",
   "version": "3.7.9"
  },
  "papermill": {
   "default_parameters": {},
   "duration": 8.183306,
   "end_time": "2021-02-19T22:09:20.734651",
   "environment_variables": {},
   "exception": null,
   "input_path": "__notebook__.ipynb",
   "output_path": "__notebook__.ipynb",
   "parameters": {},
   "start_time": "2021-02-19T22:09:12.551345",
   "version": "2.2.2"
  }
 },
 "nbformat": 4,
 "nbformat_minor": 4
}