{
 "cells": [
  {
   "cell_type": "markdown",
   "metadata": {
    "papermill": {
     "duration": 0.010989,
     "end_time": "2021-02-19T22:09:18.619513",
     "exception": false,
     "start_time": "2021-02-19T22:09:18.608524",
     "status": "completed"
    },
    "tags": [],
    "pycharm": {
     "name": "#%% md\n"
    }
   },
   "source": [
    "# Technique for Order of Preference by Similarity to Ideal Solution (AHP-TOPSIS)\n",
    "\n",
    "##### Modified from: https://www.kaggle.com/code/hungrybluedev/topsis-implementation/notebook </br>\n",
    "\n",
    "It is a multi-criteria decision analysis method that is based on the concept that the chosen alternative should have the shortest geometric distance to the Positive Ideal Solution (PIS) and the longest geometric solution from the Negative Ideal Solution (NIS)."
   ]
  },
  {
   "cell_type": "markdown",
   "source": [
    "# AHP Weight calculation\n",
    "1.  Pair-wise comparison of each criteria and sub-criteria to establish the weight of the supply chain parameters.\n",
    "2. Global summation of all these weights (weighted arithmetic sum) for each alternative and ordering them on the basis of this weighted sum.\n",
    "3. Calculate the consistency ratio which should be less than 0.10, otherwise the weights are not balanced"
   ],
   "metadata": {
    "collapsed": false,
    "pycharm": {
     "name": "#%% md\n"
    }
   }
  },
  {
   "cell_type": "markdown",
   "source": [
    "## AHP Pair-wise Comparison Matrix\n",
    "As the first step a pairwise comparison matrix is determined qualitatively according to the priority using the Saaty 9 point scale (Evelyn, E. et.al, 2015). This table is subjectively evaluated, as AHP combines both quantitative and qualitative aspects in the decision method, which helps the analysis to find the best possible answer rather than a correct solution (Longaray, A.A. et.al, 2015).\n",
    "<br /><br />\n",
    "\n",
    "| Features              | Digital Prepardness  | Natural Disaster | Labor Strikes | Political Instability | Logistic Index |\n",
    "|-----------------------|----------------------|------------------|---------------|-----------------------|----------------|\n",
    "| Digital Prepardness   | 1                    | 6                | 8             | 4                     | 3              |\n",
    "| Natural Disaster      | 1/6                  | 1                | 3             | 1/2                   | 1/4            |\n",
    "| Labor Strikes         | 1/8                  | 1/3              | 1             | 1/2                   | 1/4            |\n",
    "| Political Instability | 1/4                  | 2                | 2             | 1                     | 1/3            |\n",
    "| Logistic Index        | 1/3                  | 5                | 4             | 3                     | 1              |"
   ],
   "metadata": {
    "collapsed": false,
    "pycharm": {
     "name": "#%% md\n"
    }
   }
  },
  {
   "cell_type": "code",
   "execution_count": 13,
   "outputs": [],
   "source": [
    "from ahpy import ahpy\n",
    "\n",
    "supply_chain_comp = {\n",
    "    ('Digital Prepardness', 'Digital Prepardness'): 1, ('Digital Prepardness', 'Natural Disasters'): 6, ('Digital Prepardness', 'Labor Strikes'): 8, ('Digital Prepardness', 'Political Instability'): 4, ('Digital Prepardness', 'Logistic Index'): 3,\n",
    "    ('Natural Disasters', 'Digital Prepardness'): 1/6, ('Natural Disasters', 'Natural Disasters'): 1, ('Natural Disasters', 'Labor Strikes'): 3, ('Natural Disasters', 'Political Instability'): 1/2, ('Natural Disasters', 'Logistic Index'): 1/5,\n",
    "    ('Labor Strikes', 'Digital Prepardness'): 1/8, ('Labor Strikes', 'Natural Disasters'): 1/3, ('Labor Strikes', 'Labor Strikes'): 1, ('Labor Strikes', 'Political Instability'): 1/2, ('Labor Strikes', 'Logistic Index'): 1/4,\n",
    "    ('Political Instability', 'Digital Prepardness'): 1/4, ('Political Instability', 'Natural Disasters'): 2, ('Political Instability', 'Labor Strikes'): 2, ('Political Instability', 'Political Instability'): 1, ('Political Instability', 'Logistic Index'): 1/3,\n",
    "    ('Logistic Index', 'Digital Prepardness'): 1/3, ('Logistic Index', 'Natural Disasters'): 5, ('Logistic Index', 'Labor Strikes'): 4, ('Logistic Index', 'Political Instability'): 3, ('Logistic Index', 'Logistic Index'): 1\n",
    "    }\n"
   ],
   "metadata": {
    "collapsed": false,
    "pycharm": {
     "name": "#%%\n"
    }
   }
  },
  {
   "cell_type": "markdown",
   "source": [
    "## Calculate the weight for the criteria\n",
    "The above table represents an n x n comparison matrix which contains the intensities defined by us (Karmaker, C.L et.al, 2018). $$\n",
    " M = (w_{i}/w_{j})_{n x n} = (\\begin{array}{cc}\n",
    "w_{1}/w_{1} & w_{1}/w_{2} & .... & w_{1}/w_{n}\\\\\n",
    "w_{2}/w_{1} & w_{2}/w_{2} & .... & w_{2}/w_{n}\\\\\n",
    ". & . & ..... & . \\\\\n",
    "w_{n}/w_{1} & w_{n}/w_{2} & .... & w_{n}/w_{n}\n",
    "\\end{array})\n",
    "$$"
   ],
   "metadata": {
    "collapsed": false,
    "pycharm": {
     "name": "#%% md\n"
    }
   }
  },
  {
   "cell_type": "markdown",
   "source": [
    "## Generate the weights\n",
    "The n x n matrix is first normalized using the formula below and a priority vector is generated with which the weights are generated.\n",
    "$$\n",
    "W = \\begin{bmatrix}\n",
    "           w_{1} \\\\\n",
    "           w_{2} \\\\\n",
    "           \\vdots \\\\\n",
    "           w_{n}\n",
    "         \\end{bmatrix}\n",
    "$$"
   ],
   "metadata": {
    "collapsed": false,
    "pycharm": {
     "name": "#%% md\n"
    }
   }
  },
  {
   "cell_type": "code",
   "execution_count": 14,
   "outputs": [
    {
     "name": "stdout",
     "output_type": "stream",
     "text": [
      "{'Digital Prepardness': 0.498, 'Logistic Index': 0.26, 'Political Instability': 0.111, 'Natural Disasters': 0.08, 'Labor Strikes': 0.05}\n",
      "Consistency Ratio: 0.051\n"
     ]
    }
   ],
   "source": [
    "supply_chain = ahpy.Compare(name='Supply_Chain', comparisons=supply_chain_comp, precision=3, random_index='saaty')\n",
    "\n",
    "print(supply_chain.target_weights)\n",
    "print('Consistency Ratio: ' + str(supply_chain.consistency_ratio))"
   ],
   "metadata": {
    "collapsed": false,
    "pycharm": {
     "name": "#%%\n"
    }
   }
  },
  {
   "cell_type": "markdown",
   "source": [
    "## Calculate and check the Consistency ratio\n",
    "It is assumed that the experts using the AHP makers are objective. However, this is not true in real life which generates a certain level of uncertainty towards this evaluation. Therefore, Saaty solved this issue by creating the consistency Index and consistency ratios. To accept the matrix, the CR value should be less the 0.1 meaning there could be an inconsistency error of 10%."
   ],
   "metadata": {
    "collapsed": false,
    "pycharm": {
     "name": "#%% md\n"
    }
   }
  },
  {
   "cell_type": "code",
   "execution_count": 15,
   "metadata": {
    "execution": {
     "iopub.execute_input": "2021-02-19T22:09:18.644908Z",
     "iopub.status.busy": "2021-02-19T22:09:18.644086Z",
     "iopub.status.idle": "2021-02-19T22:09:19.425988Z",
     "shell.execute_reply": "2021-02-19T22:09:19.426526Z"
    },
    "papermill": {
     "duration": 0.797664,
     "end_time": "2021-02-19T22:09:19.426895",
     "exception": false,
     "start_time": "2021-02-19T22:09:18.629231",
     "status": "completed"
    },
    "tags": [],
    "pycharm": {
     "name": "#%%\n"
    }
   },
   "outputs": [],
   "source": [
    "# All the packages that we need to import\n",
    "import numpy as np               # for linear algebra\n",
    "import pandas as pd              # for tabular output\n",
    "from scipy.stats import rankdata # for ranking the candidates"
   ]
  },
  {
   "cell_type": "markdown",
   "metadata": {
    "papermill": {
     "duration": 0.009821,
     "end_time": "2021-02-19T22:09:19.448201",
     "exception": false,
     "start_time": "2021-02-19T22:09:19.438380",
     "status": "completed"
    },
    "tags": [],
    "pycharm": {
     "name": "#%% md\n"
    }
   },
   "source": [
    "## Pre-requisites\n",
    "\n",
    "For this problem, we are always provided with the following data:\n",
    "1. The ratings in every category for each candidate.\n",
    "2. The weights for every category or attribute to be considered.\n",
    "\n",
    "Note that an attribute can be beneficial attribute (in which case, we will want to maximize it's contribution) or a cost attribute (which we will need to minimize). We call the set of beneficial attributes $J_1$ and that of cost attributes $J_2 = J_1^C$."
   ]
  },
  {
   "cell_type": "code",
   "execution_count": 16,
   "metadata": {
    "_cell_guid": "b1076dfc-b9ad-4769-8c92-a6c4dae69d19",
    "_uuid": "8f2839f25d086af736a60e9eeb907d3b93b6e0e5",
    "execution": {
     "iopub.execute_input": "2021-02-19T22:09:19.471792Z",
     "iopub.status.busy": "2021-02-19T22:09:19.470763Z",
     "iopub.status.idle": "2021-02-19T22:09:19.513015Z",
     "shell.execute_reply": "2021-02-19T22:09:19.513519Z"
    },
    "papermill": {
     "duration": 0.055867,
     "end_time": "2021-02-19T22:09:19.513708",
     "exception": false,
     "start_time": "2021-02-19T22:09:19.457841",
     "status": "completed"
    },
    "tags": [],
    "pycharm": {
     "name": "#%%\n"
    }
   },
   "outputs": [
    {
     "data": {
      "text/plain": "          Digital Prepardness  Natural Disasters  Labor Strikes   \nGermany                 690.0                3.1            9.0  \\\nPoland                  590.0                3.9            7.0   \nFrance                  600.0                3.6            8.0   \nBelgium                 620.0                3.8            7.0   \nBulgaria                700.0                2.8           10.0   \nRomania                 650.0                4.0            6.0   \n\n          Political Instability  Logistic Index  \nGermany                     7.0             4.0  \nPoland                      6.0            10.0  \nFrance                      8.0             7.0  \nBelgium                    10.0             6.0  \nBulgaria                    4.0             6.0  \nRomania                     9.0             8.0  ",
      "text/html": "<div>\n<style scoped>\n    .dataframe tbody tr th:only-of-type {\n        vertical-align: middle;\n    }\n\n    .dataframe tbody tr th {\n        vertical-align: top;\n    }\n\n    .dataframe thead th {\n        text-align: right;\n    }\n</style>\n<table border=\"1\" class=\"dataframe\">\n  <thead>\n    <tr style=\"text-align: right;\">\n      <th></th>\n      <th>Digital Prepardness</th>\n      <th>Natural Disasters</th>\n      <th>Labor Strikes</th>\n      <th>Political Instability</th>\n      <th>Logistic Index</th>\n    </tr>\n  </thead>\n  <tbody>\n    <tr>\n      <th>Germany</th>\n      <td>690.0</td>\n      <td>3.1</td>\n      <td>9.0</td>\n      <td>7.0</td>\n      <td>4.0</td>\n    </tr>\n    <tr>\n      <th>Poland</th>\n      <td>590.0</td>\n      <td>3.9</td>\n      <td>7.0</td>\n      <td>6.0</td>\n      <td>10.0</td>\n    </tr>\n    <tr>\n      <th>France</th>\n      <td>600.0</td>\n      <td>3.6</td>\n      <td>8.0</td>\n      <td>8.0</td>\n      <td>7.0</td>\n    </tr>\n    <tr>\n      <th>Belgium</th>\n      <td>620.0</td>\n      <td>3.8</td>\n      <td>7.0</td>\n      <td>10.0</td>\n      <td>6.0</td>\n    </tr>\n    <tr>\n      <th>Bulgaria</th>\n      <td>700.0</td>\n      <td>2.8</td>\n      <td>10.0</td>\n      <td>4.0</td>\n      <td>6.0</td>\n    </tr>\n    <tr>\n      <th>Romania</th>\n      <td>650.0</td>\n      <td>4.0</td>\n      <td>6.0</td>\n      <td>9.0</td>\n      <td>8.0</td>\n    </tr>\n  </tbody>\n</table>\n</div>"
     },
     "execution_count": 16,
     "metadata": {},
     "output_type": "execute_result"
    }
   ],
   "source": [
    "# The given data encoded into vectors and matrices\n",
    "\n",
    "attributes = np.array([\"Digital Prepardness\", \"Natural Disasters\", \"Labor Strikes\", \"Political Instability\", \"Logistic Index\"])\n",
    "candidates = np.array([\"Germany\", \"Poland\", \"France\", \"Belgium\", \"Bulgaria\", \"Romania\"])\n",
    "raw_data = np.array([\n",
    "    [690, 3.1,  9,  7,  4],\n",
    "    [590, 3.9,  7,  6, 10],\n",
    "    [600, 3.6,  8,  8,  7],\n",
    "    [620, 3.8,  7, 10,  6],\n",
    "    [700, 2.8, 10,  4,  6],\n",
    "    [650, 4.0,  6,  9,  8],\n",
    "])\n",
    "\n",
    "weights = np.array([0.3, 0.2, 0.2, 0.15, 0.15])\n",
    "\n",
    "# The indices of the attributes (zero-based) that are considered beneficial.\n",
    "# Cost benefit functions 0 when cost (lower is better) and 1 when benefit function (more is better)\n",
    "benefit_attributes = set([0, 1, 2, 3, 4])\n",
    "\n",
    "# Display the raw data we have\n",
    "pd.DataFrame(data=raw_data, index=candidates, columns=attributes)"
   ]
  },
  {
   "cell_type": "markdown",
   "metadata": {
    "papermill": {
     "duration": 0.010017,
     "end_time": "2021-02-19T22:09:19.534211",
     "exception": false,
     "start_time": "2021-02-19T22:09:19.524194",
     "status": "completed"
    },
    "tags": [],
    "pycharm": {
     "name": "#%% md\n"
    }
   },
   "source": [
    "## Step 1 - Normalizing the ratings\n",
    "\n",
    "$$r_{ij}=\\frac{x_{ij}}{\\sqrt{\\sum_{i = 1}^{m} x_{ij}^2}}$$\n",
    "\n",
    "where $i = 1, 2, \\ldots, m$ and $j = 1, 2, \\ldots, n$."
   ]
  },
  {
   "cell_type": "code",
   "execution_count": 17,
   "metadata": {
    "execution": {
     "iopub.execute_input": "2021-02-19T22:09:19.558504Z",
     "iopub.status.busy": "2021-02-19T22:09:19.557538Z",
     "iopub.status.idle": "2021-02-19T22:09:19.573872Z",
     "shell.execute_reply": "2021-02-19T22:09:19.574418Z"
    },
    "papermill": {
     "duration": 0.03022,
     "end_time": "2021-02-19T22:09:19.574605",
     "exception": false,
     "start_time": "2021-02-19T22:09:19.544385",
     "status": "completed"
    },
    "tags": [],
    "pycharm": {
     "name": "#%%\n"
    }
   },
   "outputs": [
    {
     "data": {
      "text/plain": "           $X_{0}$   $X_{1}$   $X_{2}$   $X_{3}$   $X_{4}$\nGermany   0.438053  0.355454  0.462299  0.376322  0.230556\nPoland    0.374567  0.447184  0.359566  0.322562  0.576390\nFrance    0.380916  0.412785  0.410932  0.430083  0.403473\nBelgium   0.393613  0.435718  0.359566  0.537603  0.345834\nBulgaria  0.444402  0.321055  0.513665  0.215041  0.345834\nRomania   0.412659  0.458650  0.308199  0.483843  0.461112",
      "text/html": "<div>\n<style scoped>\n    .dataframe tbody tr th:only-of-type {\n        vertical-align: middle;\n    }\n\n    .dataframe tbody tr th {\n        vertical-align: top;\n    }\n\n    .dataframe thead th {\n        text-align: right;\n    }\n</style>\n<table border=\"1\" class=\"dataframe\">\n  <thead>\n    <tr style=\"text-align: right;\">\n      <th></th>\n      <th>$X_{0}$</th>\n      <th>$X_{1}$</th>\n      <th>$X_{2}$</th>\n      <th>$X_{3}$</th>\n      <th>$X_{4}$</th>\n    </tr>\n  </thead>\n  <tbody>\n    <tr>\n      <th>Germany</th>\n      <td>0.438053</td>\n      <td>0.355454</td>\n      <td>0.462299</td>\n      <td>0.376322</td>\n      <td>0.230556</td>\n    </tr>\n    <tr>\n      <th>Poland</th>\n      <td>0.374567</td>\n      <td>0.447184</td>\n      <td>0.359566</td>\n      <td>0.322562</td>\n      <td>0.576390</td>\n    </tr>\n    <tr>\n      <th>France</th>\n      <td>0.380916</td>\n      <td>0.412785</td>\n      <td>0.410932</td>\n      <td>0.430083</td>\n      <td>0.403473</td>\n    </tr>\n    <tr>\n      <th>Belgium</th>\n      <td>0.393613</td>\n      <td>0.435718</td>\n      <td>0.359566</td>\n      <td>0.537603</td>\n      <td>0.345834</td>\n    </tr>\n    <tr>\n      <th>Bulgaria</th>\n      <td>0.444402</td>\n      <td>0.321055</td>\n      <td>0.513665</td>\n      <td>0.215041</td>\n      <td>0.345834</td>\n    </tr>\n    <tr>\n      <th>Romania</th>\n      <td>0.412659</td>\n      <td>0.458650</td>\n      <td>0.308199</td>\n      <td>0.483843</td>\n      <td>0.461112</td>\n    </tr>\n  </tbody>\n</table>\n</div>"
     },
     "execution_count": 17,
     "metadata": {},
     "output_type": "execute_result"
    }
   ],
   "source": [
    "m = len(raw_data)\n",
    "n = len(attributes)\n",
    "divisors = np.empty(n)\n",
    "for j in range(n):\n",
    "    column = raw_data[:,j]\n",
    "    divisors[j] = np.sqrt(column @ column)\n",
    "\n",
    "raw_data /= divisors\n",
    "\n",
    "columns = [\"$X_{%d}$\" % j for j in range(n)]\n",
    "pd.DataFrame(data=raw_data, index=candidates, columns=columns)"
   ]
  },
  {
   "cell_type": "markdown",
   "metadata": {
    "papermill": {
     "duration": 0.010523,
     "end_time": "2021-02-19T22:09:19.596095",
     "exception": false,
     "start_time": "2021-02-19T22:09:19.585572",
     "status": "completed"
    },
    "tags": [],
    "pycharm": {
     "name": "#%% md\n"
    }
   },
   "source": [
    "## Step 2 - Calculating the Weighted Normalized Ratings\n",
    "\n",
    "$$v_{ij} = w_j r_{ij}$$\n",
    "\n",
    "where $i = 1, 2, \\ldots, m$ and $j = 1, 2, \\ldots, n$."
   ]
  },
  {
   "cell_type": "code",
   "execution_count": 18,
   "metadata": {
    "execution": {
     "iopub.execute_input": "2021-02-19T22:09:19.631855Z",
     "iopub.status.busy": "2021-02-19T22:09:19.631167Z",
     "iopub.status.idle": "2021-02-19T22:09:19.634040Z",
     "shell.execute_reply": "2021-02-19T22:09:19.634496Z"
    },
    "papermill": {
     "duration": 0.027928,
     "end_time": "2021-02-19T22:09:19.634687",
     "exception": false,
     "start_time": "2021-02-19T22:09:19.606759",
     "status": "completed"
    },
    "tags": [],
    "pycharm": {
     "name": "#%%\n"
    }
   },
   "outputs": [
    {
     "data": {
      "text/plain": "           $X_{0}$   $X_{1}$   $X_{2}$   $X_{3}$   $X_{4}$\nGermany   0.131416  0.071091  0.092460  0.056448  0.034583\nPoland    0.112370  0.089437  0.071913  0.048384  0.086459\nFrance    0.114275  0.082557  0.082186  0.064512  0.060521\nBelgium   0.118084  0.087144  0.071913  0.080640  0.051875\nBulgaria  0.133321  0.064211  0.102733  0.032256  0.051875\nRomania   0.123798  0.091730  0.061640  0.072576  0.069167",
      "text/html": "<div>\n<style scoped>\n    .dataframe tbody tr th:only-of-type {\n        vertical-align: middle;\n    }\n\n    .dataframe tbody tr th {\n        vertical-align: top;\n    }\n\n    .dataframe thead th {\n        text-align: right;\n    }\n</style>\n<table border=\"1\" class=\"dataframe\">\n  <thead>\n    <tr style=\"text-align: right;\">\n      <th></th>\n      <th>$X_{0}$</th>\n      <th>$X_{1}$</th>\n      <th>$X_{2}$</th>\n      <th>$X_{3}$</th>\n      <th>$X_{4}$</th>\n    </tr>\n  </thead>\n  <tbody>\n    <tr>\n      <th>Germany</th>\n      <td>0.131416</td>\n      <td>0.071091</td>\n      <td>0.092460</td>\n      <td>0.056448</td>\n      <td>0.034583</td>\n    </tr>\n    <tr>\n      <th>Poland</th>\n      <td>0.112370</td>\n      <td>0.089437</td>\n      <td>0.071913</td>\n      <td>0.048384</td>\n      <td>0.086459</td>\n    </tr>\n    <tr>\n      <th>France</th>\n      <td>0.114275</td>\n      <td>0.082557</td>\n      <td>0.082186</td>\n      <td>0.064512</td>\n      <td>0.060521</td>\n    </tr>\n    <tr>\n      <th>Belgium</th>\n      <td>0.118084</td>\n      <td>0.087144</td>\n      <td>0.071913</td>\n      <td>0.080640</td>\n      <td>0.051875</td>\n    </tr>\n    <tr>\n      <th>Bulgaria</th>\n      <td>0.133321</td>\n      <td>0.064211</td>\n      <td>0.102733</td>\n      <td>0.032256</td>\n      <td>0.051875</td>\n    </tr>\n    <tr>\n      <th>Romania</th>\n      <td>0.123798</td>\n      <td>0.091730</td>\n      <td>0.061640</td>\n      <td>0.072576</td>\n      <td>0.069167</td>\n    </tr>\n  </tbody>\n</table>\n</div>"
     },
     "execution_count": 18,
     "metadata": {},
     "output_type": "execute_result"
    }
   ],
   "source": [
    "raw_data *= weights\n",
    "pd.DataFrame(data=raw_data, index=candidates, columns=columns)"
   ]
  },
  {
   "cell_type": "markdown",
   "metadata": {
    "papermill": {
     "duration": 0.011047,
     "end_time": "2021-02-19T22:09:19.657165",
     "exception": false,
     "start_time": "2021-02-19T22:09:19.646118",
     "status": "completed"
    },
    "tags": [],
    "pycharm": {
     "name": "#%% md\n"
    }
   },
   "source": [
    "## Step 3 - Identifying PIS ($A^*$) and NIS ($A^-$)\n",
    "\n",
    "$$\n",
    "\\begin{align}\n",
    "A^* &= \\left\\{v_1^*, v_2^*, \\ldots, v_n^*\\right\\} \\\\\n",
    "A^- &= \\left\\{v_1^-, v_2^-, \\ldots, v_n^-\\right\\} \\\\\n",
    "\\end{align}\n",
    "$$\n",
    "\n",
    "And we define\n",
    "\n",
    "$$\n",
    "\\begin{align}\n",
    "v_j^* &=\n",
    "\\begin{cases}\n",
    "\\max{(v_{ij})}, \\text{ if} j \\in J_1 \\\\\n",
    "\\min{(v_{ij})}, \\text{ if} j \\in J_2\n",
    "\\end{cases}\n",
    "\\\\\n",
    "v_j^- &=\n",
    "\\begin{cases}\n",
    "\\min{(v_{ij})}, \\text{ if} j \\in J_1 \\\\\n",
    "\\max{(v_{ij})}, \\text{ if} j \\in J_2\n",
    "\\end{cases}\n",
    "\\\\\n",
    "\\end{align}\n",
    "$$\n",
    "\n",
    "where $i = 1, 2, \\ldots, m$ and $j = 1, 2, \\ldots, n$."
   ]
  },
  {
   "cell_type": "code",
   "execution_count": 19,
   "metadata": {
    "execution": {
     "iopub.execute_input": "2021-02-19T22:09:19.683607Z",
     "iopub.status.busy": "2021-02-19T22:09:19.682916Z",
     "iopub.status.idle": "2021-02-19T22:09:19.698532Z",
     "shell.execute_reply": "2021-02-19T22:09:19.698992Z"
    },
    "papermill": {
     "duration": 0.030628,
     "end_time": "2021-02-19T22:09:19.699195",
     "exception": false,
     "start_time": "2021-02-19T22:09:19.668567",
     "status": "completed"
    },
    "tags": [],
    "pycharm": {
     "name": "#%%\n"
    }
   },
   "outputs": [
    {
     "data": {
      "text/plain": "        $X_{0}$   $X_{1}$   $X_{2}$   $X_{3}$   $X_{4}$\n$A^*$  0.133321  0.091730  0.102733  0.080640  0.086459\n$A^-$  0.112370  0.064211  0.061640  0.032256  0.034583",
      "text/html": "<div>\n<style scoped>\n    .dataframe tbody tr th:only-of-type {\n        vertical-align: middle;\n    }\n\n    .dataframe tbody tr th {\n        vertical-align: top;\n    }\n\n    .dataframe thead th {\n        text-align: right;\n    }\n</style>\n<table border=\"1\" class=\"dataframe\">\n  <thead>\n    <tr style=\"text-align: right;\">\n      <th></th>\n      <th>$X_{0}$</th>\n      <th>$X_{1}$</th>\n      <th>$X_{2}$</th>\n      <th>$X_{3}$</th>\n      <th>$X_{4}$</th>\n    </tr>\n  </thead>\n  <tbody>\n    <tr>\n      <th>$A^*$</th>\n      <td>0.133321</td>\n      <td>0.091730</td>\n      <td>0.102733</td>\n      <td>0.080640</td>\n      <td>0.086459</td>\n    </tr>\n    <tr>\n      <th>$A^-$</th>\n      <td>0.112370</td>\n      <td>0.064211</td>\n      <td>0.061640</td>\n      <td>0.032256</td>\n      <td>0.034583</td>\n    </tr>\n  </tbody>\n</table>\n</div>"
     },
     "execution_count": 19,
     "metadata": {},
     "output_type": "execute_result"
    }
   ],
   "source": [
    "a_pos = np.zeros(n)\n",
    "a_neg = np.zeros(n)\n",
    "for j in range(n):\n",
    "    column = raw_data[:,j]\n",
    "    max_val = np.max(column)\n",
    "    min_val = np.min(column)\n",
    "    \n",
    "    # See if we want to maximize benefit or minimize cost (for PIS)\n",
    "    if j in benefit_attributes:\n",
    "        a_pos[j] = max_val\n",
    "        a_neg[j] = min_val\n",
    "    else:\n",
    "        a_pos[j] = min_val\n",
    "        a_neg[j] = max_val\n",
    "\n",
    "pd.DataFrame(data=[a_pos, a_neg], index=[\"$A^*$\", \"$A^-$\"], columns=columns)"
   ]
  },
  {
   "cell_type": "markdown",
   "metadata": {
    "papermill": {
     "duration": 0.011753,
     "end_time": "2021-02-19T22:09:19.723072",
     "exception": false,
     "start_time": "2021-02-19T22:09:19.711319",
     "status": "completed"
    },
    "tags": [],
    "pycharm": {
     "name": "#%% md\n"
    }
   },
   "source": [
    "## Step 4 and 5 - Calculating Separation Measures and Similarities to PIS\n",
    "\n",
    "The separation or distance between the alternatives can be measured by the $n$-dimensional Euclidean distance. The separation from the PIS $A^*$ and NIS $A^-$ are $S^*$ and $S^-$ respectively.\n",
    "\n",
    "$$\n",
    "\\begin{align}\n",
    "S_i^* &= \\sqrt{\\sum_{j = 1}^n \\left(v_{ij} - v^*_j\\right)^2} \\\\\n",
    "S_i^- &= \\sqrt{\\sum_{j = 1}^n \\left(v_{ij} - v^-_j\\right)^2} \\\\\n",
    "\\end{align}\n",
    "$$\n",
    "\n",
    "where $i = 1, 2, \\ldots, m$ and $j = 1, 2, \\ldots, n$.\n",
    "\n",
    "We also calculate\n",
    "\n",
    "$$\n",
    "C^*_i = \\frac{S_i^-}{S_i^* + S_i^-},\\text{ where }i = 1, 2, \\ldots, m\n",
    "$$"
   ]
  },
  {
   "cell_type": "code",
   "execution_count": 20,
   "metadata": {
    "execution": {
     "iopub.execute_input": "2021-02-19T22:09:19.750405Z",
     "iopub.status.busy": "2021-02-19T22:09:19.749766Z",
     "iopub.status.idle": "2021-02-19T22:09:19.764407Z",
     "shell.execute_reply": "2021-02-19T22:09:19.764896Z"
    },
    "papermill": {
     "duration": 0.029903,
     "end_time": "2021-02-19T22:09:19.765068",
     "exception": false,
     "start_time": "2021-02-19T22:09:19.735165",
     "status": "completed"
    },
    "tags": [],
    "pycharm": {
     "name": "#%%\n"
    }
   },
   "outputs": [
    {
     "data": {
      "text/plain": "             $S^*$     $S^-$     $C^*$\nGermany   0.061737  0.044104  0.416704\nPoland    0.049341  0.060770  0.551900\nFrance    0.042449  0.049755  0.539620\nBelgium   0.048980  0.057482  0.539926\nBulgaria  0.065531  0.049260  0.429128\nRomania   0.046297  0.060907  0.568142",
      "text/html": "<div>\n<style scoped>\n    .dataframe tbody tr th:only-of-type {\n        vertical-align: middle;\n    }\n\n    .dataframe tbody tr th {\n        vertical-align: top;\n    }\n\n    .dataframe thead th {\n        text-align: right;\n    }\n</style>\n<table border=\"1\" class=\"dataframe\">\n  <thead>\n    <tr style=\"text-align: right;\">\n      <th></th>\n      <th>$S^*$</th>\n      <th>$S^-$</th>\n      <th>$C^*$</th>\n    </tr>\n  </thead>\n  <tbody>\n    <tr>\n      <th>Germany</th>\n      <td>0.061737</td>\n      <td>0.044104</td>\n      <td>0.416704</td>\n    </tr>\n    <tr>\n      <th>Poland</th>\n      <td>0.049341</td>\n      <td>0.060770</td>\n      <td>0.551900</td>\n    </tr>\n    <tr>\n      <th>France</th>\n      <td>0.042449</td>\n      <td>0.049755</td>\n      <td>0.539620</td>\n    </tr>\n    <tr>\n      <th>Belgium</th>\n      <td>0.048980</td>\n      <td>0.057482</td>\n      <td>0.539926</td>\n    </tr>\n    <tr>\n      <th>Bulgaria</th>\n      <td>0.065531</td>\n      <td>0.049260</td>\n      <td>0.429128</td>\n    </tr>\n    <tr>\n      <th>Romania</th>\n      <td>0.046297</td>\n      <td>0.060907</td>\n      <td>0.568142</td>\n    </tr>\n  </tbody>\n</table>\n</div>"
     },
     "execution_count": 20,
     "metadata": {},
     "output_type": "execute_result"
    }
   ],
   "source": [
    "sp = np.zeros(m)\n",
    "sn = np.zeros(m)\n",
    "cs = np.zeros(m)\n",
    "\n",
    "for i in range(m):\n",
    "    diff_pos = raw_data[i] - a_pos\n",
    "    diff_neg = raw_data[i] - a_neg\n",
    "    sp[i] = np.sqrt(diff_pos @ diff_pos)\n",
    "    sn[i] = np.sqrt(diff_neg @ diff_neg)\n",
    "    cs[i] = sn[i] / (sp[i] + sn[i])\n",
    "\n",
    "pd.DataFrame(data=zip(sp, sn, cs), index=candidates, columns=[\"$S^*$\", \"$S^-$\", \"$C^*$\"])"
   ]
  },
  {
   "cell_type": "markdown",
   "metadata": {
    "papermill": {
     "duration": 0.012163,
     "end_time": "2021-02-19T22:09:19.790932",
     "exception": false,
     "start_time": "2021-02-19T22:09:19.778769",
     "status": "completed"
    },
    "tags": [],
    "pycharm": {
     "name": "#%% md\n"
    }
   },
   "source": [
    "## Step 6 - Ranking the candidates/alternatives\n",
    "\n",
    "We choose the candidate with the maximum $C^*$ or rank all the alternatives in descending order according to their $C^*$ values. This process can also be done for the $S^*$ and $S^-$ values."
   ]
  },
  {
   "cell_type": "code",
   "execution_count": 21,
   "metadata": {
    "execution": {
     "iopub.execute_input": "2021-02-19T22:09:19.820620Z",
     "iopub.status.busy": "2021-02-19T22:09:19.819968Z",
     "iopub.status.idle": "2021-02-19T22:09:19.825821Z",
     "shell.execute_reply": "2021-02-19T22:09:19.825149Z"
    },
    "papermill": {
     "duration": 0.022261,
     "end_time": "2021-02-19T22:09:19.825967",
     "exception": false,
     "start_time": "2021-02-19T22:09:19.803706",
     "status": "completed"
    },
    "tags": [],
    "pycharm": {
     "name": "#%%\n"
    }
   },
   "outputs": [],
   "source": [
    "def rank_according_to(data):\n",
    "    ranks = rankdata(data).astype(int)\n",
    "    ranks -= 1\n",
    "    return candidates[ranks][::-1]"
   ]
  },
  {
   "cell_type": "code",
   "execution_count": 22,
   "metadata": {
    "execution": {
     "iopub.execute_input": "2021-02-19T22:09:19.860862Z",
     "iopub.status.busy": "2021-02-19T22:09:19.860168Z",
     "iopub.status.idle": "2021-02-19T22:09:19.872164Z",
     "shell.execute_reply": "2021-02-19T22:09:19.872620Z"
    },
    "papermill": {
     "duration": 0.032593,
     "end_time": "2021-02-19T22:09:19.872798",
     "exception": false,
     "start_time": "2021-02-19T22:09:19.840205",
     "status": "completed"
    },
    "tags": [],
    "pycharm": {
     "name": "#%%\n"
    }
   },
   "outputs": [
    {
     "data": {
      "text/plain": "      $C^*$     $S^*$     $S^-$\n1   Romania    Poland   Romania\n2    Poland   Romania    Poland\n3   Belgium    France   Belgium\n4    France   Germany    France\n5  Bulgaria   Belgium  Bulgaria\n6   Germany  Bulgaria   Germany",
      "text/html": "<div>\n<style scoped>\n    .dataframe tbody tr th:only-of-type {\n        vertical-align: middle;\n    }\n\n    .dataframe tbody tr th {\n        vertical-align: top;\n    }\n\n    .dataframe thead th {\n        text-align: right;\n    }\n</style>\n<table border=\"1\" class=\"dataframe\">\n  <thead>\n    <tr style=\"text-align: right;\">\n      <th></th>\n      <th>$C^*$</th>\n      <th>$S^*$</th>\n      <th>$S^-$</th>\n    </tr>\n  </thead>\n  <tbody>\n    <tr>\n      <th>1</th>\n      <td>Romania</td>\n      <td>Poland</td>\n      <td>Romania</td>\n    </tr>\n    <tr>\n      <th>2</th>\n      <td>Poland</td>\n      <td>Romania</td>\n      <td>Poland</td>\n    </tr>\n    <tr>\n      <th>3</th>\n      <td>Belgium</td>\n      <td>France</td>\n      <td>Belgium</td>\n    </tr>\n    <tr>\n      <th>4</th>\n      <td>France</td>\n      <td>Germany</td>\n      <td>France</td>\n    </tr>\n    <tr>\n      <th>5</th>\n      <td>Bulgaria</td>\n      <td>Belgium</td>\n      <td>Bulgaria</td>\n    </tr>\n    <tr>\n      <th>6</th>\n      <td>Germany</td>\n      <td>Bulgaria</td>\n      <td>Germany</td>\n    </tr>\n  </tbody>\n</table>\n</div>"
     },
     "execution_count": 22,
     "metadata": {},
     "output_type": "execute_result"
    }
   ],
   "source": [
    "cs_order = rank_according_to(cs)\n",
    "sp_order = rank_according_to(sp)\n",
    "sn_order = rank_according_to(sn)\n",
    "\n",
    "pd.DataFrame(data=zip(cs_order, sp_order, sn_order), index=range(1, m + 1), columns=[\"$C^*$\", \"$S^*$\", \"$S^-$\"])"
   ]
  },
  {
   "cell_type": "code",
   "execution_count": 23,
   "metadata": {
    "execution": {
     "iopub.execute_input": "2021-02-19T22:09:19.905499Z",
     "iopub.status.busy": "2021-02-19T22:09:19.904809Z",
     "iopub.status.idle": "2021-02-19T22:09:19.909439Z",
     "shell.execute_reply": "2021-02-19T22:09:19.908894Z"
    },
    "papermill": {
     "duration": 0.023422,
     "end_time": "2021-02-19T22:09:19.909587",
     "exception": false,
     "start_time": "2021-02-19T22:09:19.886165",
     "status": "completed"
    },
    "tags": [],
    "pycharm": {
     "name": "#%%\n"
    }
   },
   "outputs": [
    {
     "name": "stdout",
     "output_type": "stream",
     "text": [
      "The best candidate/alternative according to C* is Romania\n",
      "The preferences in descending order are Romania, Poland, Belgium, France, Bulgaria, Germany.\n"
     ]
    }
   ],
   "source": [
    "print(\"The best candidate/alternative according to C* is \" + cs_order[0])\n",
    "print(\"The preferences in descending order are \" + \", \".join(cs_order) + \".\")"
   ]
  },
  {
   "cell_type": "markdown",
   "source": [
    "## References\n",
    "Evelyn, E. and EdmondYeboah, N., (2015). Ranking Agricultural Supply Chain Risk in Ghana: An AHP Approach. International Journal of Economics,Commerece and Management, III, 2, pp.1-12.\n",
    "\n",
    "Hungrybluedev (2021) Topsis implementation, Kaggle. Available from: https://www.kaggle.com/code/hungrybluedev/topsis-implementation/notebook (Accessed: 12 May 2023).\n",
    "\n",
    "Karmaker, C.L., Ahmed, S.M.T., Rahman, M.S., Tahiduzzaman, M., Biswas, T.K., Rahman, M. and Biswas, S.K., 2018. A framework of faculty performance evaluation: A case study in Bangladesh. International Journal of Research in Advanced Engineering and Technology, 4(3), pp.18-24.\n",
    "\n",
    "Longaray, A.A., Gois, J.D.D.R. and da Silva Munhoz, P.R., ()2015. Proposal for using AHP method to evaluate the quality of services provided by outsourced companies. Procedia Computer Science, 55, pp.715-724."
   ],
   "metadata": {
    "collapsed": false,
    "pycharm": {
     "name": "#%% md\n"
    }
   }
  }
 ],
 "metadata": {
  "kernelspec": {
   "display_name": "Python 3",
   "language": "python",
   "name": "python3"
  },
  "language_info": {
   "codemirror_mode": {
    "name": "ipython",
    "version": 3
   },
   "file_extension": ".py",
   "mimetype": "text/x-python",
   "name": "python",
   "nbconvert_exporter": "python",
   "pygments_lexer": "ipython3",
   "version": "3.7.9"
  },
  "papermill": {
   "default_parameters": {},
   "duration": 8.183306,
   "end_time": "2021-02-19T22:09:20.734651",
   "environment_variables": {},
   "exception": null,
   "input_path": "__notebook__.ipynb",
   "output_path": "__notebook__.ipynb",
   "parameters": {},
   "start_time": "2021-02-19T22:09:12.551345",
   "version": "2.2.2"
  }
 },
 "nbformat": 4,
 "nbformat_minor": 4
}